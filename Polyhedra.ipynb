{
 "cells": [
  {
   "cell_type": "code",
   "execution_count": 1,
   "metadata": {},
   "outputs": [],
   "source": [
    "using JuMP, Polyhedra, CDDLib"
   ]
  },
  {
   "cell_type": "code",
   "execution_count": 2,
   "metadata": {},
   "outputs": [
    {
     "data": {
      "text/latex": [
       "$$ \\begin{alignat*}{1}\\min\\quad & 0\\\\\n",
       "\\text{Subject to} \\quad & x_{1} - y_{1} \\leq 0\\\\\n",
       " & x_{2} - y_{2} \\leq 0\\\\\n",
       " & x_{3} - y_{3} \\leq 0\\\\\n",
       " & -x_{1} - y_{1} \\leq 0\\\\\n",
       " & -x_{2} - y_{2} \\leq 0\\\\\n",
       " & -x_{3} - y_{3} \\leq 0\\\\\n",
       " & y_{1} + y_{2} + y_{3} \\leq 1\\\\\n",
       " & x_{i} \\quad\\forall i \\in \\{1,2,3\\}\\\\\n",
       " & y_{i} \\geq 0 \\quad\\forall i \\in \\{1,2,3\\}\\\\\n",
       "\\end{alignat*}\n",
       " $$"
      ],
      "text/plain": [
       "Feasibility problem with:\n",
       " * 7 linear constraints\n",
       " * 6 variables\n",
       "Solver is default solver"
      ]
     },
     "execution_count": 2,
     "metadata": {},
     "output_type": "execute_result"
    }
   ],
   "source": [
    "m = Model()\n",
    "n = 3\n",
    "@variable(m, x[1:n])\n",
    "@variable(m, y[1:n] >= 0)\n",
    "@constraint(m,[i=1:n],  x[i] <= y[i])\n",
    "@constraint(m,[i=1:n], -x[i] <= y[i])\n",
    "@constraint(m, sum(y) <= 1)\n",
    "m"
   ]
  },
  {
   "cell_type": "code",
   "execution_count": 3,
   "metadata": {},
   "outputs": [
    {
     "data": {
      "text/plain": [
       "CDDLib.CDDPolyhedron{6,Rational{BigInt}}(Nullable{CDDLib.CDDInequalityMatrix{6,Rational{BigInt},S} where S<:Union{CDDLib.GMPRational, Float64}}(H-representation\n",
       "begin\n",
       " 10 7 rational\n",
       " 0//1 0//1 0//1 0//1 1//1 0//1 0//1\n",
       " 0//1 0//1 0//1 0//1 0//1 1//1 0//1\n",
       " 0//1 0//1 0//1 0//1 0//1 0//1 1//1\n",
       " 0//1 -1//1 0//1 0//1 1//1 0//1 0//1\n",
       " 0//1 0//1 -1//1 0//1 0//1 1//1 0//1\n",
       " 0//1 0//1 0//1 -1//1 0//1 0//1 1//1\n",
       " 0//1 1//1 0//1 0//1 1//1 0//1 0//1\n",
       " 0//1 0//1 1//1 0//1 0//1 1//1 0//1\n",
       " 0//1 0//1 0//1 1//1 0//1 0//1 1//1\n",
       " 1//1 0//1 0//1 0//1 -1//1 -1//1 -1//1\n",
       "end), Nullable{CDDLib.CDDGeneratorMatrix{6,Rational{BigInt},S} where S<:Union{CDDLib.GMPRational, Float64}}(), Nullable{CDDLib.CDDPolyhedra{6,Rational{BigInt},S} where S}(), false, false, false, false)"
      ]
     },
     "execution_count": 3,
     "metadata": {},
     "output_type": "execute_result"
    }
   ],
   "source": [
    "poly = polyhedron(m, CDDLibrary(:exact))"
   ]
  },
  {
   "cell_type": "code",
   "execution_count": 4,
   "metadata": {},
   "outputs": [
    {
     "data": {
      "text/plain": [
       "CDDLib.CDDPolyhedron{3,Rational{BigInt}}(Nullable{CDDLib.CDDInequalityMatrix{3,Rational{BigInt},S} where S<:Union{CDDLib.GMPRational, Float64}}(H-representation\n",
       "begin\n",
       " 27 4 rational\n",
       " 1//1 0//1 1//1 1//1\n",
       " 1//1 0//1 1//1 -1//1\n",
       " 1//1 0//1 -1//1 1//1\n",
       " 1//1 0//1 -1//1 -1//1\n",
       " 1//1 0//1 1//1 0//1\n",
       " 1//1 0//1 -1//1 0//1\n",
       " 1//1 0//1 0//1 0//1\n",
       " 1//1 0//1 0//1 -1//1\n",
       " 1//1 0//1 0//1 1//1\n",
       " 1//1 -1//1 0//1 0//1\n",
       " 1//1 1//1 0//1 0//1\n",
       " 1//1 -1//1 0//1 -1//1\n",
       " 1//1 -1//1 0//1 1//1\n",
       " 1//1 1//1 0//1 -1//1\n",
       " 1//1 1//1 0//1 1//1\n",
       " 1//1 -1//1 -1//1 0//1\n",
       " 1//1 -1//1 1//1 0//1\n",
       " 1//1 -1//1 -1//1 -1//1\n",
       " 1//1 -1//1 -1//1 1//1\n",
       " 1//1 -1//1 1//1 -1//1\n",
       " 1//1 -1//1 1//1 1//1\n",
       " 1//1 1//1 -1//1 0//1\n",
       " 1//1 1//1 1//1 0//1\n",
       " 1//1 1//1 -1//1 -1//1\n",
       " 1//1 1//1 -1//1 1//1\n",
       " 1//1 1//1 1//1 -1//1\n",
       " 1//1 1//1 1//1 1//1\n",
       "end), Nullable{CDDLib.CDDGeneratorMatrix{3,Rational{BigInt},S} where S<:Union{CDDLib.GMPRational, Float64}}(), Nullable{CDDLib.CDDPolyhedra{3,Rational{BigInt},S} where S}(), false, false, false, false)"
      ]
     },
     "execution_count": 4,
     "metadata": {},
     "output_type": "execute_result"
    }
   ],
   "source": [
    "poly_x = eliminate(poly, n+1:2n)"
   ]
  },
  {
   "cell_type": "code",
   "execution_count": 5,
   "metadata": {},
   "outputs": [
    {
     "name": "stdout",
     "output_type": "stream",
     "text": [
      "SimpleHRepresentation(poly_x) = H-representation\n",
      "begin\n",
      " 27 4 rational\n",
      " 1//1 0//1 1//1 1//1\n",
      " 1//1 0//1 1//1 -1//1\n",
      " 1//1 0//1 -1//1 1//1\n",
      " 1//1 0//1 -1//1 -1//1\n",
      " 1//1 0//1 1//1 0//1\n",
      " 1//1 0//1 -1//1 0//1\n",
      " 1//1 0//1 0//1 0//1\n",
      " 1//1 0//1 0//1 -1//1\n",
      " 1//1 0//1 0//1 1//1\n",
      " 1//1 -1//1 0//1 0//1\n",
      " 1//1 1//1 0//1 0//1\n",
      " 1//1 -1//1 0//1 -1//1\n",
      " 1//1 -1//1 0//1 1//1\n",
      " 1//1 1//1 0//1 -1//1\n",
      " 1//1 1//1 0//1 1//1\n",
      " 1//1 -1//1 -1//1 0//1\n",
      " 1//1 -1//1 1//1 0//1\n",
      " 1//1 -1//1 -1//1 -1//1\n",
      " 1//1 -1//1 -1//1 1//1\n",
      " 1//1 -1//1 1//1 -1//1\n",
      " 1//1 -1//1 1//1 1//1\n",
      " 1//1 1//1 -1//1 0//1\n",
      " 1//1 1//1 1//1 0//1\n",
      " 1//1 1//1 -1//1 -1//1\n",
      " 1//1 1//1 -1//1 1//1\n",
      " 1//1 1//1 1//1 -1//1\n",
      " 1//1 1//1 1//1 1//1\n",
      "end\n",
      "SimpleHRepresentation(poly_x) = H-representation\n",
      "begin\n",
      " 8 4 rational\n",
      " 1//1 -1//1 -1//1 -1//1\n",
      " 1//1 -1//1 -1//1 1//1\n",
      " 1//1 -1//1 1//1 -1//1\n",
      " 1//1 -1//1 1//1 1//1\n",
      " 1//1 1//1 -1//1 -1//1\n",
      " 1//1 1//1 -1//1 1//1\n",
      " 1//1 1//1 1//1 -1//1\n",
      " 1//1 1//1 1//1 1//1\n",
      "end\n"
     ]
    }
   ],
   "source": [
    "@show SimpleHRepresentation(poly_x)\n",
    "removehredundancy!(poly_x)\n",
    "@show SimpleHRepresentation(poly_x);"
   ]
  },
  {
   "cell_type": "code",
   "execution_count": 6,
   "metadata": {},
   "outputs": [
    {
     "name": "stdout",
     "output_type": "stream",
     "text": [
      "SimpleVRepresentation(poly_x) = V-representation\n",
      "begin\n",
      " 6 4 rational\n",
      " 1 0//1 0//1 1//1\n",
      " 1 1//1 0//1 0//1\n",
      " 1 0//1 1//1 0//1\n",
      " 1 0//1 0//1 -1//1\n",
      " 1 0//1 -1//1 0//1\n",
      " 1 -1//1 0//1 0//1\n",
      "end\n",
      "SimpleVRepresentation(poly_x) = V-representation\n",
      "begin\n",
      " 6 4 rational\n",
      " 1 0//1 0//1 1//1\n",
      " 1 1//1 0//1 0//1\n",
      " 1 0//1 1//1 0//1\n",
      " 1 0//1 0//1 -1//1\n",
      " 1 0//1 -1//1 0//1\n",
      " 1 -1//1 0//1 0//1\n",
      "end\n"
     ]
    }
   ],
   "source": [
    "@show SimpleVRepresentation(poly_x)\n",
    "removevredundancy!(poly_x)\n",
    "@show SimpleVRepresentation(poly_x);"
   ]
  },
  {
   "cell_type": "code",
   "execution_count": null,
   "metadata": {},
   "outputs": [],
   "source": []
  }
 ],
 "metadata": {
  "kernelspec": {
   "display_name": "Julia 0.6.2",
   "language": "julia",
   "name": "julia-0.6"
  },
  "language_info": {
   "file_extension": ".jl",
   "mimetype": "application/julia",
   "name": "julia",
   "version": "0.6.2"
  }
 },
 "nbformat": 4,
 "nbformat_minor": 2
}
